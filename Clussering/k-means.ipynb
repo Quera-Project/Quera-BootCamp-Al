{
 "cells": [
  {
   "cell_type": "code",
   "execution_count": 2,
   "id": "e866a23f",
   "metadata": {},
   "outputs": [],
   "source": [
    "import pandas as pd\n",
    "import numpy as np\n",
    "import matplotlib.pyplot as plt\n",
    "from mpl_toolkits.mplot3d import Axes3D\n",
    "from sklearn.cluster import KMeans, DBSCAN\n",
    "from sklearn.preprocessing import StandardScaler\n",
    "from sklearn.impute import SimpleImputer\n",
    "import pyproj\n",
    "import seaborn as sns\n",
    "from matplotlib.colors import ListedColormap"
   ]
  },
  {
   "cell_type": "code",
   "execution_count": 3,
   "id": "e9bcc295",
   "metadata": {},
   "outputs": [],
   "source": [
    "divar_df = pd.read_pickle('../DataSets/clean_divar_data.pkl')"
   ]
  },
  {
   "cell_type": "code",
   "execution_count": null,
   "id": "2d07f4e6",
   "metadata": {},
   "outputs": [],
   "source": [
    "df = raw_df.copy()"
   ]
  },
  {
   "cell_type": "code",
   "execution_count": null,
   "id": "6d7e07b0",
   "metadata": {},
   "outputs": [],
   "source": [
    "selected_features = [\n",
    "    'building_size',      # Size preference\n",
    "    'rooms_count',        # Room requirement\n",
    "    'construction_year',  # Age preference\n",
    "    'has_parking',        # Amenity preference\n",
    "    'has_elevator',       # Accessibility preference\n",
    "    'floor'               # Floor preference\n",
    "]"
   ]
  },
  {
   "cell_type": "code",
   "execution_count": null,
   "id": "b7025e71",
   "metadata": {},
   "outputs": [],
   "source": [
    "\n",
    "# Prepare clustering data\n",
    "X_clustering = df[selected_features].copy()\n",
    "\n",
    "# Standardize features for clustering\n",
    "scaler = StandardScaler()\n",
    "X_scaled = scaler.fit_transform(X_clustering_imputed)\n"
   ]
  },
  {
   "cell_type": "code",
   "execution_count": null,
   "id": "cee7484a",
   "metadata": {},
   "outputs": [],
   "source": [
    "\n",
    "# Apply K-means with 10 clusters\n",
    "kmeans = KMeans(n_clusters=10, random_state=42, n_init=10)\n",
    "kmeans_labels = kmeans.fit_predict(X_scaled)\n",
    "\n",
    "# Add cluster labels to dataframe\n",
    "df['kmeans_cluster'] = kmeans_labels\n",
    "\n",
    "print(f\"K-means clustering completed. Number of clusters: {len(np.unique(kmeans_labels))}\")\n",
    "print(f\"Cluster distribution:\")\n",
    "for i in range(10):\n",
    "    count = np.sum(kmeans_labels == i)\n",
    "    print(f\"Cluster {i}: {count} properties ({count/len(df)*100:.1f}%)\")\n"
   ]
  },
  {
   "cell_type": "code",
   "execution_count": null,
   "id": "a3e235b9",
   "metadata": {},
   "outputs": [],
   "source": [
    "\n",
    "# Create 3D scatter plot for K-means results\n",
    "fig = plt.figure(figsize=(15, 10))\n",
    "ax = fig.add_subplot(111, projection='3d')\n",
    "\n",
    "# Color palette for clusters\n",
    "colors = plt.cm.tab10(np.linspace(0, 1, 10))\n",
    "\n",
    "# Plot each cluster\n",
    "for i in range(10):\n",
    "    mask = kmeans_labels == i\n",
    "    ax.scatter(df.loc[mask, 'utm_x'], df.loc[mask, 'utm_y'], df.loc[mask, 'transformable_price'],\n",
    "              c=[colors[i]], label=f'Cluster {i}', alpha=0.6, s=20)\n",
    "\n",
    "# Plot cluster centers in original feature space, but project to price/location space\n",
    "# We need to inverse transform the centers and then map to price/location\n",
    "centers_original = scaler.inverse_transform(kmeans.cluster_centers_)\n",
    "centers_df = pd.DataFrame(centers_original, columns=selected_features)\n",
    "\n",
    "# For visualization, we'll use the mean price and location of each cluster\n",
    "for i in range(10):\n",
    "    mask = kmeans_labels == i\n",
    "    center_x = df.loc[mask, 'utm_x'].mean()\n",
    "    center_y = df.loc[mask, 'utm_y'].mean()\n",
    "    center_price = df.loc[mask, 'transformable_price'].mean()\n",
    "    \n",
    "    ax.scatter([center_x], [center_y], [center_price], \n",
    "              c='red', marker='x', s=200, linewidths=3,\n",
    "              label='Centers' if i == 0 else \"\")\n",
    "\n",
    "ax.set_xlabel('UTM X (meters)', fontsize=12)\n",
    "ax.set_ylabel('UTM Y (meters)', fontsize=12)\n",
    "ax.set_zlabel('Transformable Price (Toman)', fontsize=12)\n",
    "ax.set_title('K-means Clustering Results (10 clusters)\\nPrice vs UTM Coordinates', fontsize=14)\n",
    "\n",
    "# Create custom legend\n",
    "handles, labels = ax.get_legend_handles_labels()\n",
    "# Remove duplicate \"Centers\" entries\n",
    "unique_labels = []\n",
    "unique_handles = []\n",
    "for handle, label in zip(handles, labels):\n",
    "    if label not in unique_labels:\n",
    "        unique_labels.append(label)\n",
    "        unique_handles.append(handle)\n",
    "\n",
    "ax.legend(unique_handles, unique_labels, bbox_to_anchor=(1.05, 1), loc='upper left')\n",
    "plt.tight_layout()\n",
    "plt.show()"
   ]
  }
 ],
 "metadata": {
  "kernelspec": {
   "display_name": "quera-project",
   "language": "python",
   "name": "python3"
  },
  "language_info": {
   "codemirror_mode": {
    "name": "ipython",
    "version": 3
   },
   "file_extension": ".py",
   "mimetype": "text/x-python",
   "name": "python",
   "nbconvert_exporter": "python",
   "pygments_lexer": "ipython3",
   "version": "3.11.13"
  }
 },
 "nbformat": 4,
 "nbformat_minor": 5
}
