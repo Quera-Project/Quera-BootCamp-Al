{
 "cells": [
  {
   "cell_type": "code",
   "execution_count": null,
   "id": "41b4fcf5-0032-438a-a71f-600f67f19702",
   "metadata": {},
   "outputs": [],
   "source": [
    "import numpy as np\n",
    "import pandas as pd\n",
    "import matplotlib.pyplot as plt\n",
    "from sklearn.decomposition import PCA\n",
    "from sklearn.impute import SimpleImputer\n",
    "from sklearn.cluster import MiniBatchKMeans\n",
    "from sklearn.cluster import DBSCAN"
   ]
  },
  {
   "cell_type": "code",
   "execution_count": null,
   "id": "a74ede5e-26a6-45e9-98a6-e76530eeaf92",
   "metadata": {},
   "outputs": [],
   "source": [
    "df = pd.read_csv('replace with clean_data_sh012') "
   ]
  },
  {
   "cell_type": "markdown",
   "id": "30ace88b-890d-4e48-a741-769a71312a00",
   "metadata": {},
   "source": [
    "### Search for Hyperparameters for 4 clusters"
   ]
  },
  {
   "cell_type": "code",
   "execution_count": null,
   "id": "1312ddef-c7b6-4f64-889b-dabf853273ba",
   "metadata": {},
   "outputs": [],
   "source": [
    "X = df[['utm_x', 'utm_y', 'value']].values"
   ]
  },
  {
   "cell_type": "code",
   "execution_count": 1,
   "id": "f7ef917c-03a6-49f3-9687-98be541f7cd2",
   "metadata": {
    "scrolled": true
   },
   "outputs": [
    {
     "name": "stdout",
     "output_type": "stream",
     "text": [
      "eps=0.1, min_samples=5 → clusters=30\n",
      "eps=0.1, min_samples=10 → clusters=9\n",
      "eps=0.1, min_samples=20 → clusters=4\n",
      "eps=0.1, min_samples=50 → clusters=0\n",
      "eps=0.3, min_samples=5 → clusters=54\n",
      "eps=0.3, min_samples=10 → clusters=12\n",
      "eps=0.3, min_samples=20 → clusters=4\n",
      "eps=0.3, min_samples=50 → clusters=0\n",
      "eps=0.5, min_samples=5 → clusters=65\n",
      "eps=0.5, min_samples=10 → clusters=16\n",
      "eps=0.5, min_samples=20 → clusters=5\n",
      "eps=0.5, min_samples=50 → clusters=0\n",
      "eps=1.0, min_samples=5 → clusters=116\n",
      "eps=1.0, min_samples=10 → clusters=22\n",
      "eps=1.0, min_samples=20 → clusters=8\n",
      "eps=1.0, min_samples=50 → clusters=1\n",
      "eps=2.0, min_samples=5 → clusters=260\n",
      "eps=2.0, min_samples=10 → clusters=42\n",
      "eps=2.0, min_samples=20 → clusters=12\n",
      "eps=2.0, min_samples=50 → clusters=1\n"
     ]
    }
   ],
   "source": [
    "for eps in [0.1, 0.3, 0.5, 1.0, 2.0]:\n",
    "    for min_samples in [5, 10, 20, 50]:\n",
    "        db = DBSCAN(eps=eps, min_samples=min_samples).fit(X)\n",
    "        labels = db.labels_\n",
    "        n_clusters = len(set(labels)) - (1 if -1 in labels else 0)\n",
    "        print(f\"eps={eps}, min_samples={min_samples} → clusters={n_clusters}\")\n"
   ]
  },
  {
   "cell_type": "code",
   "execution_count": null,
   "id": "9baefe77-a585-4a50-9a1f-39f00cb58cb6",
   "metadata": {},
   "outputs": [],
   "source": [
    "\n",
    "\n",
    "db = DBSCAN(eps=0.1, min_samples=20)\n",
    "labels = db.fit_predict(X)\n",
    "\n",
    "df['cluster'] = labels\n",
    "\n",
    "fig, ax = plt.subplots(subplot_kw={\"projection\": \"3d\"}, figsize=(10,7))\n",
    "\n",
    "scatter = ax.scatter(\n",
    "    X[:,0], X[:,1], X[:,2],\n",
    "    c=labels, cmap='viridis', s=30\n",
    ")\n",
    "\n",
    "ax.set_xlabel(\"UTM X (scaled)\")\n",
    "ax.set_ylabel(\"UTM Y (scaled)\")\n",
    "ax.set_zlabel(\"Value (scaled)\")\n",
    "ax.set_title(\"DBSCAN Clustering on Scaled Data (3D)\")\n",
    "\n",
    "fig.colorbar(scatter, ax=ax, label=\"Cluster\")\n",
    "plt.show()"
   ]
  },
  {
   "cell_type": "code",
   "execution_count": null,
   "id": "f6c05841-641a-4350-90c4-311b60e1b28b",
   "metadata": {},
   "outputs": [],
   "source": []
  }
 ],
 "metadata": {
  "kernelspec": {
   "display_name": "Python 3 (ipykernel)",
   "language": "python",
   "name": "python3"
  },
  "language_info": {
   "codemirror_mode": {
    "name": "ipython",
    "version": 3
   },
   "file_extension": ".py",
   "mimetype": "text/x-python",
   "name": "python",
   "nbconvert_exporter": "python",
   "pygments_lexer": "ipython3",
   "version": "3.13.5"
  }
 },
 "nbformat": 4,
 "nbformat_minor": 5
}
